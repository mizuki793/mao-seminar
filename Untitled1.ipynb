{
  "nbformat": 4,
  "nbformat_minor": 0,
  "metadata": {
    "colab": {
      "name": "Untitled1.ipynb",
      "version": "0.3.2",
      "provenance": []
    },
    "kernelspec": {
      "name": "python3",
      "display_name": "Python 3"
    }
  },
  "cells": [
    {
      "cell_type": "code",
      "metadata": {
        "id": "tJ3ZkhVL_GT8",
        "colab_type": "code",
        "colab": {
          "base_uri": "https://localhost:8080/",
          "height": 34
        },
        "outputId": "3060c2d5-ec09-4e61-9408-2c2e104e4c52"
      },
      "source": [
        "print(\"hello world\")"
      ],
      "execution_count": 1,
      "outputs": [
        {
          "output_type": "stream",
          "text": [
            "hello world\n"
          ],
          "name": "stdout"
        }
      ]
    },
    {
      "cell_type": "code",
      "metadata": {
        "id": "BHlkXo9q_U2h",
        "colab_type": "code",
        "colab": {
          "base_uri": "https://localhost:8080/",
          "height": 34
        },
        "outputId": "4fb54e0a-d8c1-4750-a453-0c028ff02b05"
      },
      "source": [
        "(123+456)*789"
      ],
      "execution_count": 2,
      "outputs": [
        {
          "output_type": "execute_result",
          "data": {
            "text/plain": [
              "456831"
            ]
          },
          "metadata": {
            "tags": []
          },
          "execution_count": 2
        }
      ]
    },
    {
      "cell_type": "code",
      "metadata": {
        "id": "2yY6_FpW_eE2",
        "colab_type": "code",
        "colab": {
          "base_uri": "https://localhost:8080/",
          "height": 34
        },
        "outputId": "48c9936b-c236-4deb-94b3-25812ed8fb33"
      },
      "source": [
        "corona = 350\n",
        "docpe = 140\n",
        "\n",
        "corona *2 +docpe*3"
      ],
      "execution_count": 3,
      "outputs": [
        {
          "output_type": "execute_result",
          "data": {
            "text/plain": [
              "1120"
            ]
          },
          "metadata": {
            "tags": []
          },
          "execution_count": 3
        }
      ]
    },
    {
      "cell_type": "code",
      "metadata": {
        "id": "TdOXZiVS_xGZ",
        "colab_type": "code",
        "colab": {
          "base_uri": "https://localhost:8080/",
          "height": 52
        },
        "outputId": "29f85ac1-873f-4777-dde1-b8ef7d2a0b7f"
      },
      "source": [
        "turanari =[1,2,3,4,5,6,7,8,9,10,11,12,13,14,15,16,17,18,19]\n",
        "\n",
        "print(\"first number is ...\",turanari[0])\n",
        "print(\"first number is ...\",turanari[1])"
      ],
      "execution_count": 4,
      "outputs": [
        {
          "output_type": "stream",
          "text": [
            "first number is ... 1\n",
            "first number is ... 2\n"
          ],
          "name": "stdout"
        }
      ]
    },
    {
      "cell_type": "markdown",
      "metadata": {
        "id": "SNoxzViW_lRx",
        "colab_type": "text"
      },
      "source": [
        ""
      ]
    },
    {
      "cell_type": "code",
      "metadata": {
        "id": "vLaLPgMCAqWF",
        "colab_type": "code",
        "colab": {
          "base_uri": "https://localhost:8080/",
          "height": 1000
        },
        "outputId": "b58cfdb1-83e9-4a55-f0bc-2f185ebbd348"
      },
      "source": [
        "for i in turanari:\n",
        "  print(\"number is ...\" , i)\n",
        "  print(\"i square is...\", i**2)\n",
        "  print(\"=\"*50)"
      ],
      "execution_count": 5,
      "outputs": [
        {
          "output_type": "stream",
          "text": [
            "number is ... 1\n",
            "i square is... 1\n",
            "==================================================\n",
            "number is ... 2\n",
            "i square is... 4\n",
            "==================================================\n",
            "number is ... 3\n",
            "i square is... 9\n",
            "==================================================\n",
            "number is ... 4\n",
            "i square is... 16\n",
            "==================================================\n",
            "number is ... 5\n",
            "i square is... 25\n",
            "==================================================\n",
            "number is ... 6\n",
            "i square is... 36\n",
            "==================================================\n",
            "number is ... 7\n",
            "i square is... 49\n",
            "==================================================\n",
            "number is ... 8\n",
            "i square is... 64\n",
            "==================================================\n",
            "number is ... 9\n",
            "i square is... 81\n",
            "==================================================\n",
            "number is ... 10\n",
            "i square is... 100\n",
            "==================================================\n",
            "number is ... 11\n",
            "i square is... 121\n",
            "==================================================\n",
            "number is ... 12\n",
            "i square is... 144\n",
            "==================================================\n",
            "number is ... 13\n",
            "i square is... 169\n",
            "==================================================\n",
            "number is ... 14\n",
            "i square is... 196\n",
            "==================================================\n",
            "number is ... 15\n",
            "i square is... 225\n",
            "==================================================\n",
            "number is ... 16\n",
            "i square is... 256\n",
            "==================================================\n",
            "number is ... 17\n",
            "i square is... 289\n",
            "==================================================\n",
            "number is ... 18\n",
            "i square is... 324\n",
            "==================================================\n",
            "number is ... 19\n",
            "i square is... 361\n",
            "==================================================\n"
          ],
          "name": "stdout"
        }
      ]
    },
    {
      "cell_type": "code",
      "metadata": {
        "id": "_1SauFKOBS2O",
        "colab_type": "code",
        "colab": {
          "base_uri": "https://localhost:8080/",
          "height": 34
        },
        "outputId": "752a3a53-4c67-4f78-de61-524ea3d62a63"
      },
      "source": [
        "import numpy as np\n",
        "\n",
        "a = np.array([1,2,3])\n",
        "b = np.array([4,5,6])\n",
        "\n",
        "np.dot(a,b)"
      ],
      "execution_count": 6,
      "outputs": [
        {
          "output_type": "execute_result",
          "data": {
            "text/plain": [
              "32"
            ]
          },
          "metadata": {
            "tags": []
          },
          "execution_count": 6
        }
      ]
    }
  ]
}